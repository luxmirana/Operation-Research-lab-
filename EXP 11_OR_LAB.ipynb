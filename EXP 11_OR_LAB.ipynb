{
  "nbformat": 4,
  "nbformat_minor": 0,
  "metadata": {
    "colab": {
      "name": "Untitled8.ipynb",
      "provenance": [],
      "authorship_tag": "ABX9TyNHNC0Y79Gil3vs3a8ayBRi",
      "include_colab_link": true
    },
    "kernelspec": {
      "name": "python3",
      "display_name": "Python 3"
    },
    "language_info": {
      "name": "python"
    }
  },
  "cells": [
    {
      "cell_type": "markdown",
      "metadata": {
        "id": "view-in-github",
        "colab_type": "text"
      },
      "source": [
        "<a href=\"https://colab.research.google.com/github/luxmirana/Operation-Research-lab-/blob/main/EXP%2011_OR_LAB.ipynb\" target=\"_parent\"><img src=\"https://colab.research.google.com/assets/colab-badge.svg\" alt=\"Open In Colab\"/></a>"
      ]
    },
    {
      "cell_type": "markdown",
      "source": [
        "EXPERIMENT 11 "
      ],
      "metadata": {
        "id": "m0eKJlQsJLMm"
      }
    },
    {
      "cell_type": "markdown",
      "source": [
        "QUESTION 1:"
      ],
      "metadata": {
        "id": "VC6e8KqcJOAE"
      }
    },
    {
      "cell_type": "code",
      "execution_count": null,
      "metadata": {
        "colab": {
          "base_uri": "https://localhost:8080/"
        },
        "id": "H8Xn4i98JF35",
        "outputId": "6eaf86f5-fe77-44a5-9cf5-c158a21bf162"
      },
      "outputs": [
        {
          "output_type": "stream",
          "name": "stdout",
          "text": [
            "Total assignment cost is 280\n"
          ]
        }
      ],
      "source": [
        "import numpy as np\n",
        "from scipy.optimize import linear_sum_assignment\n",
        "cost_matrix = np.array([[120, 100, 80], [80, 90, 110], [110, 140, 120]])\n",
        "row_ind, col_ind = linear_sum_assignment(cost_matrix)\n",
        "opt_ass = col_ind\n",
        "tc = cost_matrix[row_ind, col_ind].sum()\n",
        "print('Total assignment cost is %d' %tc)"
      ]
    },
    {
      "cell_type": "markdown",
      "source": [
        "QUESTION 2"
      ],
      "metadata": {
        "id": "klFujUEXJeuL"
      }
    },
    {
      "cell_type": "code",
      "source": [
        "cost_matrix1 = np.array([[10, 5, 13, 15, 16], [3, 9, 18, 13, 6], [10, 7, 2, 2, 2], [7, 11, 9, 7, 12], [7, 9, 10, 4 , 12]])\n",
        "row_ind1, col_ind1 = linear_sum_assignment(cost_matrix1)\n",
        "opt_ass1 = col_ind1\n",
        "tc1 = cost_matrix1[row_ind1, col_ind1].sum()\n",
        "print('Total assignment cost is %d' %tc1)"
      ],
      "metadata": {
        "colab": {
          "base_uri": "https://localhost:8080/"
        },
        "id": "ThIiUNnsJhsv",
        "outputId": "c2650be8-e60a-4348-eb24-76cd03f32d24"
      },
      "execution_count": null,
      "outputs": [
        {
          "output_type": "stream",
          "name": "stdout",
          "text": [
            "Total assignment cost is 23\n"
          ]
        }
      ]
    }
  ]
}