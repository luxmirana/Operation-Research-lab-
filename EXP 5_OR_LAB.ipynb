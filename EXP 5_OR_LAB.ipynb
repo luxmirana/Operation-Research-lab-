{
  "nbformat": 4,
  "nbformat_minor": 0,
  "metadata": {
    "colab": {
      "name": "15_Sept_LUXMI_500075243_R103219010.ipynb",
      "provenance": [],
      "authorship_tag": "ABX9TyMLlh1KAjVh/wg1NYR+qhiE",
      "include_colab_link": true
    },
    "kernelspec": {
      "name": "python3",
      "display_name": "Python 3"
    },
    "language_info": {
      "name": "python"
    }
  },
  "cells": [
    {
      "cell_type": "markdown",
      "metadata": {
        "id": "view-in-github",
        "colab_type": "text"
      },
      "source": [
        "<a href=\"https://colab.research.google.com/github/luxmirana/Operation-Research-lab-/blob/main/15_Sept_LUXMI_500075243_R103219010.ipynb\" target=\"_parent\"><img src=\"https://colab.research.google.com/assets/colab-badge.svg\" alt=\"Open In Colab\"/></a>"
      ]
    },
    {
      "cell_type": "markdown",
      "metadata": {
        "id": "jJ33-vFmiefZ"
      },
      "source": [
        "EXPERIMENT 5"
      ]
    },
    {
      "cell_type": "markdown",
      "metadata": {
        "id": "A-tGn_wuimXt"
      },
      "source": [
        "QUESTION 1 :"
      ]
    },
    {
      "cell_type": "markdown",
      "metadata": {
        "id": "YPFMlp6Mju-h"
      },
      "source": [
        "maximize  Z = 3X¬1 + 2X2 + 3X3 \n",
        "Subject to,\n",
        " 2X¬1 + X2 + X3 = 2\n",
        "X¬1 + 3X2 + X3 =6\n",
        "3X¬1 + 4X2 + 2X3 =8\n",
        "X1 ,X2 , X3 ≥0\n"
      ]
    },
    {
      "cell_type": "code",
      "metadata": {
        "id": "ViXQuLrRhoND"
      },
      "source": [
        "from scipy.optimize import linprog"
      ],
      "execution_count": 1,
      "outputs": []
    },
    {
      "cell_type": "code",
      "metadata": {
        "colab": {
          "base_uri": "https://localhost:8080/"
        },
        "id": "GHm6I4nkjCa2",
        "outputId": "72124ea6-f87f-4963-f41b-83efd616f74f"
      },
      "source": [
        "c = [-3, -2, -3]\n",
        "A = [[2, 1, 1], [1, 3, 1], [3, 4, 2]]\n",
        "b = [2, 6, 8]\n",
        "x1_bound = (0, None)\n",
        "x2_bound = (0, None)\n",
        "x3_bound = (0, None)\n",
        "res = linprog(c, A_eq = A, b_eq = b, bounds=[x1_bound, x2_bound, x3_bound], method = \"simplex\")\n",
        "print(res)"
      ],
      "execution_count": 2,
      "outputs": [
        {
          "output_type": "stream",
          "name": "stdout",
          "text": [
            "     con: array([0., 0., 0.])\n",
            "     fun: -4.0\n",
            " message: 'Optimization terminated successfully.'\n",
            "     nit: 3\n",
            "   slack: array([], dtype=float64)\n",
            "  status: 0\n",
            " success: True\n",
            "       x: array([0., 2., 0.])\n"
          ]
        },
        {
          "output_type": "stream",
          "name": "stderr",
          "text": [
            "/usr/local/lib/python3.7/dist-packages/ipykernel_launcher.py:7: OptimizeWarning: A_eq does not appear to be of full row rank. To improve performance, check the problem formulation for redundant equality constraints.\n",
            "  import sys\n"
          ]
        }
      ]
    },
    {
      "cell_type": "markdown",
      "metadata": {
        "id": "l8hSe4_ojXxR"
      },
      "source": [
        "QUESTION 2 "
      ]
    },
    {
      "cell_type": "markdown",
      "metadata": {
        "id": "L3eUl4wqj7n7"
      },
      "source": [
        "2)\tminimize  Z = 3X¬1 - 4X2 + 3X3 \n",
        "Subject to,\n",
        " 5X¬1 + 6X2 + 2X3 ≤ 5\n",
        "-X¬1 + 3X2 +5 X3 ≥ 8\n",
        "2X¬1 + 5X2 - 4X3 ≤4\n",
        "X1 ,X2 , X3 ≥0\n"
      ]
    },
    {
      "cell_type": "code",
      "metadata": {
        "colab": {
          "base_uri": "https://localhost:8080/"
        },
        "id": "dMwABbAQjbV3",
        "outputId": "e8c1dd14-0889-45f7-a026-76501136ad36"
      },
      "source": [
        "c = [3, -4, 3]\n",
        "A = [[5, 6, 2], [1, -3, -5], [2, 5, -4]]\n",
        "b = [5, -8, 4]\n",
        "x1_bound = (0, None)\n",
        "x2_bound = (0, None)\n",
        "x3_bound = (0, None)\n",
        "res = linprog(c, A, b, bounds=[x1_bound, x2_bound, x3_bound], method = \"simplex\")\n",
        "print(res)"
      ],
      "execution_count": 3,
      "outputs": [
        {
          "output_type": "stream",
          "name": "stdout",
          "text": [
            "     con: array([], dtype=float64)\n",
            "     fun: 2.624999999999999\n",
            " message: 'Optimization terminated successfully.'\n",
            "     nit: 3\n",
            "   slack: array([ 0.0000000e+00, -8.8817842e-16,  7.6250000e+00])\n",
            "  status: 0\n",
            " success: True\n",
            "       x: array([0.   , 0.375, 1.375])\n"
          ]
        }
      ]
    },
    {
      "cell_type": "markdown",
      "metadata": {
        "id": "B5bKfW7ajiUn"
      },
      "source": [
        "QUESTION 3 \n"
      ]
    },
    {
      "cell_type": "markdown",
      "metadata": {
        "id": "X6Pv8WBbkGcV"
      },
      "source": [
        "3)\tmaximize  Z = 2X¬1 + 4X2 + 4X3  -3X4\n",
        "Subject to,\n",
        " X¬1 + X2 + X3 = 4\n",
        "X¬1 + 4X2 + X4 =8\n",
        "3X¬1 + 4X2 + 2X3 =8\n",
        "X1 ,X2 , X3 , X4 ≥0\n"
      ]
    },
    {
      "cell_type": "code",
      "metadata": {
        "colab": {
          "base_uri": "https://localhost:8080/"
        },
        "id": "eO9fY55RjlhI",
        "outputId": "2ba5726f-a678-417e-dcc7-e3653dea1667"
      },
      "source": [
        "c = [-2, -4, -4, 3]\n",
        "A = [[1, 1, 1, 0], [1, 4, 0,1], [3 , 4, 2, 0]]\n",
        "b = [4, 8, 8]\n",
        "x1_bound = (0, None)\n",
        "x2_bound = (0, None)\n",
        "x3_bound = (0, None)\n",
        "x4_bound = (0, None)\n",
        "res = linprog(c, A_eq = A, b_eq= b, bounds=(x1_bound, x2_bound, x3_bound, x4_bound), method = \"simplex\")\n",
        "print(res)"
      ],
      "execution_count": 4,
      "outputs": [
        {
          "output_type": "stream",
          "name": "stdout",
          "text": [
            "     con: array([0., 0., 0.])\n",
            "     fun: 8.0\n",
            " message: 'Optimization terminated successfully.'\n",
            "     nit: 3\n",
            "   slack: array([], dtype=float64)\n",
            "  status: 0\n",
            " success: True\n",
            "       x: array([0., 0., 4., 8.])\n"
          ]
        }
      ]
    }
  ]
}
