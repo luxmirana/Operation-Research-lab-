{
  "nbformat": 4,
  "nbformat_minor": 0,
  "metadata": {
    "colab": {
      "name": "29_Sept_LUXMI_500075243_R103219010.ipynb",
      "provenance": [],
      "authorship_tag": "ABX9TyOZqr1aF0flJfn76U19r6bc",
      "include_colab_link": true
    },
    "kernelspec": {
      "name": "python3",
      "display_name": "Python 3"
    },
    "language_info": {
      "name": "python"
    }
  },
  "cells": [
    {
      "cell_type": "markdown",
      "metadata": {
        "id": "view-in-github",
        "colab_type": "text"
      },
      "source": [
        "<a href=\"https://colab.research.google.com/github/luxmirana/Operation-Research-lab-/blob/main/29_Sept_LUXMI_500075243_R103219010.ipynb\" target=\"_parent\"><img src=\"https://colab.research.google.com/assets/colab-badge.svg\" alt=\"Open In Colab\"/></a>"
      ]
    },
    {
      "cell_type": "markdown",
      "metadata": {
        "id": "Yvfgv42hme-0"
      },
      "source": [
        "EXPERIMENT 6 "
      ]
    },
    {
      "cell_type": "markdown",
      "metadata": {
        "id": "IbDu4spxmkbJ"
      },
      "source": [
        "QUESTION 1 :"
      ]
    },
    {
      "cell_type": "markdown",
      "metadata": {
        "id": "4gpWNqifmsuw"
      },
      "source": [
        "1)\tConsider a Belgian company Volsay, which specializes in producing ammoniac gas (NH3)\n",
        "and ammonium chloride (NH4Cl). Volsay has at its disposal 50 units of nitrogen (N), 180 units\n",
        "of hydrogen (H), and 40 units of chlorine (Cl). The company makes a profit of 40 Euros for\n",
        "each sale of an ammoniac gas unit and 50 Euros for each sale of an ammonium chloride\n",
        "unit. Volsay would like a production plan maximizing its profits given its available stocks.\n"
      ]
    },
    {
      "cell_type": "code",
      "metadata": {
        "id": "lhq1fsMdm0SH"
      },
      "source": [
        "from scipy.optimize import linprog"
      ],
      "execution_count": 1,
      "outputs": []
    },
    {
      "cell_type": "code",
      "metadata": {
        "colab": {
          "base_uri": "https://localhost:8080/"
        },
        "id": "IOCO9L4QnDVc",
        "outputId": "01c13e2d-5d4b-491d-fa13-8bfc192812ec"
      },
      "source": [
        "c = [-40 ,-50]\n",
        "A = [[ 3, 4],[1, 1],[0, 1]]\n",
        "b = [180, 50, 40]\n",
        "bnd = [(0, float(\"inf\")), (0, float(\"inf\"))]\n",
        "opt = linprog(c, A_ub=A, b_ub=b, bounds=bnd, method=\"revised simplex\")\n",
        "opt"
      ],
      "execution_count": 2,
      "outputs": [
        {
          "output_type": "execute_result",
          "data": {
            "text/plain": [
              "     con: array([], dtype=float64)\n",
              "     fun: -2300.0\n",
              " message: 'Optimization terminated successfully.'\n",
              "     nit: 3\n",
              "   slack: array([ 0.,  0., 10.])\n",
              "  status: 0\n",
              " success: True\n",
              "       x: array([20., 30.])"
            ]
          },
          "metadata": {},
          "execution_count": 2
        }
      ]
    },
    {
      "cell_type": "markdown",
      "metadata": {
        "id": "pq5FcGiknMsp"
      },
      "source": [
        "QUESTION 2 :"
      ]
    },
    {
      "cell_type": "markdown",
      "metadata": {
        "id": "rgJl4I_3nRjt"
      },
      "source": [
        "2)\tOn October 1 a company received a contract to supply 6000 units of specialized product . the term of contract require that 1000 unit  be shipped in October , 3000 units in November and 2000 units in December . the company can manufacture 1500 units in a month on a regular time and 750 units per month in overtime. The manufacturing cost per item produced in regular time is Rs 3 and the cost per item produced during overtime is Rs 5.The monthly storage cost is Rs 1.Formulate this problem as LP model so as to minimize total cost."
      ]
    },
    {
      "cell_type": "code",
      "metadata": {
        "colab": {
          "base_uri": "https://localhost:8080/"
        },
        "id": "9_jaQDm1nW5t",
        "outputId": "7348462c-79b7-4004-da29-5df67bbb58cd"
      },
      "source": [
        "c = [5, 4, 3, 7, 6, 5, -5000]\n",
        "lhs_ineq = [[-1, 0, 0, -1, 0, 0, 0],[-1, -1, 0, -1, -1, 0, 0]]\n",
        "rhs_ineq = [-1000, -4000]\n",
        "lhs_eq = [[1, 1, 1, 1, 1, 1, 0],[0, 0, 0, 0, 0, 0, 1]]\n",
        "rhs_eq = [6000, 1]\n",
        "bnd = [(0, 1500), (0, 1500), (0, 1500), (0,750), (0,750), (0,750), (1,1)]\n",
        "opt = linprog(c,A_eq=lhs_eq, b_eq=rhs_eq, A_ub=lhs_ineq, b_ub=rhs_ineq, bounds=bnd, method=\"revised simplex\")\n",
        "opt"
      ],
      "execution_count": 3,
      "outputs": [
        {
          "output_type": "execute_result",
          "data": {
            "text/plain": [
              "     con: array([0., 0.])\n",
              "     fun: 21750.0\n",
              " message: 'Optimization terminated successfully.'\n",
              "     nit: 7\n",
              "   slack: array([750.,   0.])\n",
              "  status: 0\n",
              " success: True\n",
              "       x: array([1.5e+03, 1.5e+03, 1.5e+03, 2.5e+02, 7.5e+02, 5.0e+02, 1.0e+00])"
            ]
          },
          "metadata": {},
          "execution_count": 3
        }
      ]
    },
    {
      "cell_type": "markdown",
      "metadata": {
        "id": "MuRuy2fxntq3"
      },
      "source": [
        "QUESTION 3 :"
      ]
    },
    {
      "cell_type": "markdown",
      "metadata": {
        "id": "odOURWkJnmf8"
      },
      "source": [
        "3)\tMaximize Z=4x1+3x2\n",
        "Subject to\n",
        "2x1+x2 ≤ 1000\n",
        "x1+x2 ≤ 800\n",
        "x1 ≤ 400\n",
        "x2 ≤ 700, x1,x2  ≥0\n"
      ]
    },
    {
      "cell_type": "code",
      "metadata": {
        "colab": {
          "base_uri": "https://localhost:8080/"
        },
        "id": "ix7etcPhn2B8",
        "outputId": "422ee277-c18b-409b-ba2b-3771e34b0e4a"
      },
      "source": [
        "c = [-4, -3]\n",
        "A = [[2, 1],[1, 1]]\n",
        "b = [1000, 800]\n",
        "bnd = [(0, 400), (0, 700)]\n",
        "opt = linprog(c, A_ub=A, b_ub=b, bounds=bnd, method=\"revised simplex\")\n",
        "opt"
      ],
      "execution_count": 4,
      "outputs": [
        {
          "output_type": "execute_result",
          "data": {
            "text/plain": [
              "     con: array([], dtype=float64)\n",
              "     fun: -2600.0\n",
              " message: 'Optimization terminated successfully.'\n",
              "     nit: 3\n",
              "   slack: array([0., 0.])\n",
              "  status: 0\n",
              " success: True\n",
              "       x: array([200., 600.])"
            ]
          },
          "metadata": {},
          "execution_count": 4
        }
      ]
    }
  ]
}