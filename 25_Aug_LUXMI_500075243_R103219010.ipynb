{
  "nbformat": 4,
  "nbformat_minor": 0,
  "metadata": {
    "colab": {
      "name": "25_Aug_LUXMI_500075243_R103219010.ipynb",
      "provenance": [],
      "collapsed_sections": [],
      "authorship_tag": "ABX9TyPwwk0/3E2HeJdLXmFZAqGk",
      "include_colab_link": true
    },
    "kernelspec": {
      "name": "python3",
      "display_name": "Python 3"
    },
    "language_info": {
      "name": "python"
    }
  },
  "cells": [
    {
      "cell_type": "markdown",
      "metadata": {
        "id": "view-in-github",
        "colab_type": "text"
      },
      "source": [
        "<a href=\"https://colab.research.google.com/github/luxmirana/Operation-Research-lab-/blob/main/25_Aug_LUXMI_500075243_R103219010.ipynb\" target=\"_parent\"><img src=\"https://colab.research.google.com/assets/colab-badge.svg\" alt=\"Open In Colab\"/></a>"
      ]
    },
    {
      "cell_type": "markdown",
      "metadata": {
        "id": "cZ7WPJj1WtVq"
      },
      "source": [
        "EXPERIMENT 2,3\n",
        "\n",
        "\n"
      ]
    },
    {
      "cell_type": "markdown",
      "metadata": {
        "id": "jIVaq4sttCkl"
      },
      "source": [
        "BASIC LINEAR PROGRAMMING PROBLEM (LPP)"
      ]
    },
    {
      "cell_type": "markdown",
      "metadata": {
        "id": "-K8TbecxXGVM"
      },
      "source": [
        "QUESTION 1:\n"
      ]
    },
    {
      "cell_type": "markdown",
      "metadata": {
        "id": "MN1oMHcCqHZD"
      },
      "source": [
        "1)\tA firm is engaged in producing two products, A and B. Each unit of product A requires 2 kg of raw material and 4 labour hours for processing, whereas each unit of product B requires 3 kg of raw material and 3 hours of labour, of the same type. Every week, the firm has an availability of 60 kg of raw material and 96 labour hours. One unit of product A sold yields Rs. 40 and one unit of product B sold gives Rs. 35 as profit. Formulate this problem as a linear programming problem to determine as to how many units of each of the products should be produced per week so that the firm can earn the maximum profit."
      ]
    },
    {
      "cell_type": "code",
      "metadata": {
        "id": "uVLRXtPH8s8b"
      },
      "source": [
        "from scipy.optimize import linprog"
      ],
      "execution_count": 60,
      "outputs": []
    },
    {
      "cell_type": "code",
      "metadata": {
        "id": "zHOvTKbi9VTR"
      },
      "source": [
        "obj = [-40,-35]"
      ],
      "execution_count": 61,
      "outputs": []
    },
    {
      "cell_type": "code",
      "metadata": {
        "id": "ghLAsHK39lvX"
      },
      "source": [
        "lhs_ineq = [[2,3] , [4,3]]\n",
        "rhs_ineq = [60,96]"
      ],
      "execution_count": 62,
      "outputs": []
    },
    {
      "cell_type": "code",
      "metadata": {
        "id": "xohR8Sv1-iKf"
      },
      "source": [
        "bnd = [(0, float(\"inf\")), (0, float(\"inf\"))]"
      ],
      "execution_count": 63,
      "outputs": []
    },
    {
      "cell_type": "code",
      "metadata": {
        "id": "wQf7Fb_1_S2u"
      },
      "source": [
        "opt = linprog(c=obj , A_ub=lhs_ineq , b_ub=rhs_ineq ,\n",
        "              bounds=bnd,\n",
        "              method=\"revised simplex\")"
      ],
      "execution_count": 64,
      "outputs": []
    },
    {
      "cell_type": "code",
      "metadata": {
        "colab": {
          "base_uri": "https://localhost:8080/"
        },
        "id": "tWZRB0-OAXbO",
        "outputId": "24c13e78-093a-4e78-f346-97f515bb9347"
      },
      "source": [
        "opt"
      ],
      "execution_count": 65,
      "outputs": [
        {
          "output_type": "execute_result",
          "data": {
            "text/plain": [
              "     con: array([], dtype=float64)\n",
              "     fun: -1000.0\n",
              " message: 'Optimization terminated successfully.'\n",
              "     nit: 2\n",
              "   slack: array([0., 0.])\n",
              "  status: 0\n",
              " success: True\n",
              "       x: array([18.,  8.])"
            ]
          },
          "metadata": {},
          "execution_count": 65
        }
      ]
    },
    {
      "cell_type": "markdown",
      "metadata": {
        "id": "6X7N1O0dXiu_"
      },
      "source": [
        "QUESTION 2:\n"
      ]
    },
    {
      "cell_type": "markdown",
      "metadata": {
        "id": "ZpA78K5-qNRD"
      },
      "source": [
        "2)\tThe Agricultural research Institute suggested to a farmer to spread out at least 4800 kg of a special phosphate fertilizer and not less than 7200 kg of a special nitrogen fertilizer to raise productivity of crops in his fields. There are two sources for obtaining these − mixtures A and B. Both of these are available in bags weighing 100 kg each and they cost Rs. 40 and Rs. 24 respectively. Mixture A contains phosphate and nitrogen equivalent of 20 kg and 80 kg respectively, while mixture B contains these ingredients equivalent of 50 kg each.\n",
        "Write as a linear programming problem to determine how many bags of each type the farmer should buy in order to obtain the required fertilizer at a minimum cost.\n"
      ]
    },
    {
      "cell_type": "code",
      "metadata": {
        "id": "LErjHGdwXoJg"
      },
      "source": [
        "from scipy.optimize import linprog"
      ],
      "execution_count": 66,
      "outputs": []
    },
    {
      "cell_type": "code",
      "metadata": {
        "id": "-bteb-D1YdCy"
      },
      "source": [
        "obj = [40,24]"
      ],
      "execution_count": 67,
      "outputs": []
    },
    {
      "cell_type": "code",
      "metadata": {
        "id": "IhGFDwpXYha4"
      },
      "source": [
        "lhs_ineq = [[-20,-50] , [-80,-50]]\n",
        "rhs_ineq = [-4800 , -7200]"
      ],
      "execution_count": 68,
      "outputs": []
    },
    {
      "cell_type": "code",
      "metadata": {
        "id": "AIv3jTS4YyEW"
      },
      "source": [
        "bnd = [(0,float(\"inf\")) , (0,float(\"inf\"))]"
      ],
      "execution_count": 69,
      "outputs": []
    },
    {
      "cell_type": "code",
      "metadata": {
        "id": "1VbcVkIyZAz0"
      },
      "source": [
        "opt = linprog (c=obj , A_ub = lhs_ineq , b_ub=rhs_ineq ,\n",
        "               bounds = bnd ,\n",
        "               method = \"revised simplex\")"
      ],
      "execution_count": 70,
      "outputs": []
    },
    {
      "cell_type": "code",
      "metadata": {
        "colab": {
          "base_uri": "https://localhost:8080/"
        },
        "id": "VxDUcdp5ZUpZ",
        "outputId": "085f475f-6804-49d0-acc4-0210ff9d9a22"
      },
      "source": [
        "opt"
      ],
      "execution_count": 71,
      "outputs": [
        {
          "output_type": "execute_result",
          "data": {
            "text/plain": [
              "     con: array([], dtype=float64)\n",
              "     fun: 3456.0\n",
              " message: 'Optimization terminated successfully.'\n",
              "     nit: 3\n",
              "   slack: array([2400.,    0.])\n",
              "  status: 0\n",
              " success: True\n",
              "       x: array([  0., 144.])"
            ]
          },
          "metadata": {},
          "execution_count": 71
        }
      ]
    },
    {
      "cell_type": "markdown",
      "metadata": {
        "id": "GhLdgmhIZavo"
      },
      "source": [
        "QUESTION 3 \n"
      ]
    },
    {
      "cell_type": "markdown",
      "metadata": {
        "id": "iU7XJQ-eqUpy"
      },
      "source": [
        "3)\tA company manufactures two products A and B. These products are processed in the same machine. It takes 10 minutes to process one unit of product A and 2 minutes for each unit of product B and the machine operates for a maximum of 35 hours in a week. Product A requires 1 kg and B 0.5 kg of raw material per unit, the supply of which is 600 kg per week. Market constraint on product B is known to be minimum of 800 units every week. Product A costs Rs. 5 per unit and sold at Rs. 10. Product B costs Rs. 6 per unit and can be sold in the market at a unit price of Rs. 8. Determine the number of units of A and B per week to maximize the profit."
      ]
    },
    {
      "cell_type": "code",
      "metadata": {
        "id": "PoNNHtENZfta"
      },
      "source": [
        "from scipy.optimize import linprog"
      ],
      "execution_count": 38,
      "outputs": []
    },
    {
      "cell_type": "code",
      "metadata": {
        "id": "fzIZWWMXabll"
      },
      "source": [
        "obj = [-5,-2]"
      ],
      "execution_count": 39,
      "outputs": []
    },
    {
      "cell_type": "code",
      "metadata": {
        "id": "PrycCUvqagH8"
      },
      "source": [
        "lhs_ineq = [[10,2] , [1,0.5] ]\n",
        "rhs_ineq = [2100 , 600 ]"
      ],
      "execution_count": 40,
      "outputs": []
    },
    {
      "cell_type": "code",
      "metadata": {
        "id": "lUe5mQ5lazYb"
      },
      "source": [
        "bnd = [(0,float(\"inf\")) , (800,float(\"inf\"))]"
      ],
      "execution_count": 41,
      "outputs": []
    },
    {
      "cell_type": "code",
      "metadata": {
        "id": "V8Nige9Wa-93"
      },
      "source": [
        "opt = linprog(c=obj , A_ub = lhs_ineq , b_ub = rhs_ineq ,\n",
        "              bounds = bnd ,\n",
        "              method = \"revised simplex\")"
      ],
      "execution_count": 42,
      "outputs": []
    },
    {
      "cell_type": "code",
      "metadata": {
        "colab": {
          "base_uri": "https://localhost:8080/"
        },
        "id": "HbD5XYeGbTe2",
        "outputId": "4cb8e111-cb6d-4ea7-ad26-fefcb96c9b16"
      },
      "source": [
        "opt"
      ],
      "execution_count": 43,
      "outputs": [
        {
          "output_type": "execute_result",
          "data": {
            "text/plain": [
              "     con: array([], dtype=float64)\n",
              "     fun: -2100.0\n",
              " message: 'Optimization terminated successfully.'\n",
              "     nit: 2\n",
              "   slack: array([ 0., 75.])\n",
              "  status: 0\n",
              " success: True\n",
              "       x: array([   0., 1050.])"
            ]
          },
          "metadata": {},
          "execution_count": 43
        }
      ]
    },
    {
      "cell_type": "markdown",
      "metadata": {
        "id": "CAmFqNvmbZe2"
      },
      "source": [
        "QUESTION 4"
      ]
    },
    {
      "cell_type": "markdown",
      "metadata": {
        "id": "k23edHwmqcR3"
      },
      "source": [
        "4)\tAn electric appliance company produces two products: refrigerators and ranges. Production takes place in two separate departments I and II. Refrigerators are produced in department I and ranges in department II. The company's two products are sold on a weekly basis. the weekly production cannot exceed 25 refrigerators and 35 ranges. the company regularly employs a total of 60 workers in the two departments. A refrigerator requires 2 man-weeks labour while a range requires 1 man-week labour. A refrigerator contributes a profit of Rs. 60 and range contributes a profit of Rs. 40. how many units of refrigerators and ranges should the company produce to realize the maximum profit?"
      ]
    },
    {
      "cell_type": "code",
      "metadata": {
        "id": "HNmhgpTGbddf"
      },
      "source": [
        "from scipy.optimize import linprog"
      ],
      "execution_count": 72,
      "outputs": []
    },
    {
      "cell_type": "code",
      "metadata": {
        "id": "_nyg7TaobzQE"
      },
      "source": [
        "obj = [-60,-40]"
      ],
      "execution_count": 73,
      "outputs": []
    },
    {
      "cell_type": "code",
      "metadata": {
        "id": "AThMygpTb3Dj"
      },
      "source": [
        "lhs_ineq = [[2,1]]\n",
        "rhs_ineq = [60]"
      ],
      "execution_count": 74,
      "outputs": []
    },
    {
      "cell_type": "code",
      "metadata": {
        "id": "zGRlVSXfcHLG"
      },
      "source": [
        "bnd = [(0,25) , (0,35)]"
      ],
      "execution_count": 75,
      "outputs": []
    },
    {
      "cell_type": "code",
      "metadata": {
        "id": "tFNE4Xh7cYk_"
      },
      "source": [
        "opt = linprog(c=obj , A_ub = lhs_ineq , b_ub = rhs_ineq , \n",
        "              bounds = bnd ,\n",
        "              method = \"revised simplex\")"
      ],
      "execution_count": 76,
      "outputs": []
    },
    {
      "cell_type": "code",
      "metadata": {
        "id": "OiSbxMTecwEZ",
        "colab": {
          "base_uri": "https://localhost:8080/"
        },
        "outputId": "9281282e-e8b5-4285-a017-1e58c694c7fc"
      },
      "source": [
        "opt"
      ],
      "execution_count": 77,
      "outputs": [
        {
          "output_type": "execute_result",
          "data": {
            "text/plain": [
              "     con: array([], dtype=float64)\n",
              "     fun: -2150.0\n",
              " message: 'Optimization terminated successfully.'\n",
              "     nit: 3\n",
              "   slack: array([0.])\n",
              "  status: 0\n",
              " success: True\n",
              "       x: array([12.5, 35. ])"
            ]
          },
          "metadata": {},
          "execution_count": 77
        }
      ]
    },
    {
      "cell_type": "markdown",
      "metadata": {
        "id": "vIUrPJB-de90"
      },
      "source": [
        "QUESTION 5"
      ]
    },
    {
      "cell_type": "markdown",
      "metadata": {
        "id": "G8zSk6miqjbQ"
      },
      "source": [
        "5)\tSolve the following LPP\n",
        "Minimize Z = 20X¬1 + 10X2\n",
        "Subject to,\n",
        " X1 + 2X2 ≤40\n",
        "3X1 + 1X2 ≥30\n",
        "4X1 + 3X2 ≥60\n",
        "X1 ,X2 ≥0\n"
      ]
    },
    {
      "cell_type": "code",
      "metadata": {
        "id": "GD9dQIc5dhnm"
      },
      "source": [
        "from scipy.optimize import linprog"
      ],
      "execution_count": 78,
      "outputs": []
    },
    {
      "cell_type": "code",
      "metadata": {
        "id": "DdIbEC0Vd1DF"
      },
      "source": [
        "obj = [20,10]"
      ],
      "execution_count": 79,
      "outputs": []
    },
    {
      "cell_type": "code",
      "metadata": {
        "id": "p6lZGeiEd4on"
      },
      "source": [
        "lhs_ineq = [[1,2] , [-3,-1] , [-4,-3]]\n",
        "rhs_ineq = [40,-30,-60]"
      ],
      "execution_count": 80,
      "outputs": []
    },
    {
      "cell_type": "code",
      "metadata": {
        "id": "arKxfO9YeJPl"
      },
      "source": [
        "bnd = [(0,float(\"inf\")) , (0,float(\"inf\"))]"
      ],
      "execution_count": 81,
      "outputs": []
    },
    {
      "cell_type": "code",
      "metadata": {
        "id": "jl3c5zRuebA0"
      },
      "source": [
        "opt = linprog(c=obj , A_ub=lhs_ineq , b_ub = rhs_ineq ,\n",
        "              bounds =bnd , \n",
        "              method = \"revised simplex\")"
      ],
      "execution_count": 82,
      "outputs": []
    },
    {
      "cell_type": "code",
      "metadata": {
        "colab": {
          "base_uri": "https://localhost:8080/"
        },
        "id": "LkDFWiele4zp",
        "outputId": "298a04ed-fe3c-4cf5-c206-3d5311738943"
      },
      "source": [
        "opt"
      ],
      "execution_count": 83,
      "outputs": [
        {
          "output_type": "execute_result",
          "data": {
            "text/plain": [
              "     con: array([], dtype=float64)\n",
              "     fun: 240.0\n",
              " message: 'Optimization terminated successfully.'\n",
              "     nit: 2\n",
              "   slack: array([10.,  0.,  0.])\n",
              "  status: 0\n",
              " success: True\n",
              "       x: array([ 6., 12.])"
            ]
          },
          "metadata": {},
          "execution_count": 83
        }
      ]
    },
    {
      "cell_type": "markdown",
      "metadata": {
        "id": "MMHbXqGke9l-"
      },
      "source": [
        "QUESTION 6 "
      ]
    },
    {
      "cell_type": "markdown",
      "metadata": {
        "id": "fFXkQCk3qqW2"
      },
      "source": [
        "6)Maximize Z = X¬1 +  X2 +3X3\n",
        "Subject to,\n",
        " 3X1 + 2X2 +X3 ≤300\n",
        "2X1 + X2 +2X3  ≤200\n",
        "X1 , X2 , X3 ≥0\n"
      ]
    },
    {
      "cell_type": "code",
      "metadata": {
        "id": "hQ9GXt5LfAh2"
      },
      "source": [
        "from scipy.optimize import linprog"
      ],
      "execution_count": 84,
      "outputs": []
    },
    {
      "cell_type": "code",
      "metadata": {
        "id": "uaTl3IVnlXz6"
      },
      "source": [
        "obj = [-1, -1, -3]"
      ],
      "execution_count": 85,
      "outputs": []
    },
    {
      "cell_type": "code",
      "metadata": {
        "id": "Ph6bwPfIlgMP"
      },
      "source": [
        "lhs_ineq = [[3, 2, 1] , [2, 1, 2]]\n",
        "rhs_ineq = [300,200]"
      ],
      "execution_count": 86,
      "outputs": []
    },
    {
      "cell_type": "code",
      "metadata": {
        "id": "yAPSE1Wtlvav"
      },
      "source": [
        "bnd = [(0, float(\"inf\")) , (0,float(\"inf\")) , (0, float(\"inf\"))]"
      ],
      "execution_count": 87,
      "outputs": []
    },
    {
      "cell_type": "code",
      "metadata": {
        "id": "ieIpEdU1mNhg"
      },
      "source": [
        "opt = linprog(c=obj , A_ub = lhs_ineq , b_ub = rhs_ineq ,\n",
        "              bounds = bnd ,\n",
        "              method = \"revised simplex\")"
      ],
      "execution_count": 88,
      "outputs": []
    },
    {
      "cell_type": "code",
      "metadata": {
        "colab": {
          "base_uri": "https://localhost:8080/"
        },
        "id": "e3kP_sonm64S",
        "outputId": "b3cb8f45-a6cf-4e22-dcb0-395e65ea1274"
      },
      "source": [
        "opt"
      ],
      "execution_count": 89,
      "outputs": [
        {
          "output_type": "execute_result",
          "data": {
            "text/plain": [
              "     con: array([], dtype=float64)\n",
              "     fun: -300.0\n",
              " message: 'Optimization terminated successfully.'\n",
              "     nit: 1\n",
              "   slack: array([200.,   0.])\n",
              "  status: 0\n",
              " success: True\n",
              "       x: array([  0.,   0., 100.])"
            ]
          },
          "metadata": {},
          "execution_count": 89
        }
      ]
    }
  ]
}