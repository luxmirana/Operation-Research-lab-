{
  "nbformat": 4,
  "nbformat_minor": 0,
  "metadata": {
    "colab": {
      "name": "1_Sept_LUXMI_500075243_R103219010.ipynb",
      "provenance": [],
      "authorship_tag": "ABX9TyPTSWM8o7RSCczrz1WwDE0r",
      "include_colab_link": true
    },
    "kernelspec": {
      "name": "python3",
      "display_name": "Python 3"
    },
    "language_info": {
      "name": "python"
    }
  },
  "cells": [
    {
      "cell_type": "markdown",
      "metadata": {
        "id": "view-in-github",
        "colab_type": "text"
      },
      "source": [
        "<a href=\"https://colab.research.google.com/github/luxmirana/Operation-Research-lab-/blob/main/1_Sept_LUXMI_500075243_R103219010.ipynb\" target=\"_parent\"><img src=\"https://colab.research.google.com/assets/colab-badge.svg\" alt=\"Open In Colab\"/></a>"
      ]
    },
    {
      "cell_type": "markdown",
      "metadata": {
        "id": "QmIgzSHTq8Yk"
      },
      "source": [
        "EXPERIMENT 4"
      ]
    },
    {
      "cell_type": "markdown",
      "metadata": {
        "id": "o4B3oqSJYMkz"
      },
      "source": [
        "\n",
        "INTEGER PROGRAMMING PROBLEM (IPP)\n",
        "\n"
      ]
    },
    {
      "cell_type": "markdown",
      "metadata": {
        "id": "Y6f42IHsYSEj"
      },
      "source": [
        "QUESTION 1:\n"
      ]
    },
    {
      "cell_type": "code",
      "metadata": {
        "id": "80ts-WB9X8_7"
      },
      "source": [
        "import cvxpy as cp"
      ],
      "execution_count": 8,
      "outputs": []
    },
    {
      "cell_type": "code",
      "metadata": {
        "colab": {
          "base_uri": "https://localhost:8080/"
        },
        "id": "-UKOA3aiY2Qc",
        "outputId": "90a0834e-b69c-4a12-9af6-2f0515e6b451"
      },
      "source": [
        "x1 = cp.Variable()\n",
        "x2 = cp.Variable()\n",
        "objective = cp.Maximize( 7*x1 + 10*x2 )\n",
        "constraints = [-1*x1 + 3*x2 <= 6 , 7*x1 + x2 <=35 ]\n",
        "prob = cp.Problem(objective , constraints)\n",
        "prob.solve()"
      ],
      "execution_count": 9,
      "outputs": [
        {
          "output_type": "execute_result",
          "data": {
            "text/plain": [
              "66.49999997691361"
            ]
          },
          "metadata": {},
          "execution_count": 9
        }
      ]
    },
    {
      "cell_type": "markdown",
      "metadata": {
        "id": "j-Qp-3erazA5"
      },
      "source": [
        "QUESTION 2 :"
      ]
    },
    {
      "cell_type": "code",
      "metadata": {
        "colab": {
          "base_uri": "https://localhost:8080/"
        },
        "id": "3Wg_XFiTa3At",
        "outputId": "660513c5-7d27-44de-a1ce-9b77bf548bbf"
      },
      "source": [
        "x1 = cp.Variable()\n",
        "x2 = cp.Variable()\n",
        "objective = cp.Maximize( 5*x1 + 8*x2 )\n",
        "constraints = [ 1*x1 + 1*x2 <= 6 , 5*x1 + 9*x2 <=45]\n",
        "prob = cp.Problem(objective,constraints)\n",
        "prob.solve()"
      ],
      "execution_count": 10,
      "outputs": [
        {
          "output_type": "execute_result",
          "data": {
            "text/plain": [
              "41.25000000018229"
            ]
          },
          "metadata": {},
          "execution_count": 10
        }
      ]
    },
    {
      "cell_type": "markdown",
      "metadata": {
        "id": "SZRwJMi5n7_n"
      },
      "source": [
        "QUESTION 3"
      ]
    },
    {
      "cell_type": "code",
      "metadata": {
        "colab": {
          "base_uri": "https://localhost:8080/"
        },
        "id": "tzz3ZItOnWMe",
        "outputId": "77a8a92e-f0f1-4dd1-cf33-a267a7982d4a"
      },
      "source": [
        "x1 = cp.Variable(integer = True)\n",
        "x2 = cp.Variable(integer = True)\n",
        "objective = cp.Maximize( 10*x1 + 12*x2 )\n",
        "constraints = [ x1 + x2 <= 35,\n",
        "               25*x1-12*x2 <= 0,\n",
        "               12*x1-10*x2 <= 0,\n",
        "               x1>=0,\n",
        "               x2>=0]\n",
        "prob = cp.Problem(objective, constraints)\n",
        "prob.solve()\n",
        "\n",
        "print(\"Value of x1 :\", x1.value)\n",
        "print(\"Value of x2:\", x2.value)\n",
        "print(\"Value of obj:\",prob.value)\n"
      ],
      "execution_count": 11,
      "outputs": [
        {
          "output_type": "stream",
          "name": "stdout",
          "text": [
            "Value of x1 : 0.0\n",
            "Value of x2: 35.0\n",
            "Value of obj: 420.0\n"
          ]
        }
      ]
    }
  ]
}